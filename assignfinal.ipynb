{
  "nbformat": 4,
  "nbformat_minor": 0,
  "metadata": {
    "colab": {
      "name": "assignfinal.ipynb",
      "provenance": []
    },
    "kernelspec": {
      "name": "python3",
      "display_name": "Python 3"
    },
    "language_info": {
      "name": "python"
    }
  },
  "cells": [
    {
      "cell_type": "markdown",
      "source": [
        "**Registration and Login system using Python, file handling**"
      ],
      "metadata": {
        "id": "HIVg0wih7Y_F"
      }
    },
    {
      "cell_type": "code",
      "source": [
        "#Username validation\n",
        "import re\n",
        "#regex = r'\\b[A-Za-z0-9._%+-]+@[A-Za-z0-9.-]+\\.[A-Z|a-z]{2,}\\b'\n",
        "def check(emailorusername):\n",
        "  regex = \"^[a-zA-Z-_]+@[a-zA-Z]+\\.[a-z]{1,3}$\"\n",
        "  if(re.fullmatch(regex, emailorusername)):\n",
        "        print(\"Valid Email\")"
      ],
      "metadata": {
        "id": "T0PUV228P7zf"
      },
      "execution_count": 1,
      "outputs": []
    },
    {
      "cell_type": "code",
      "source": [
        "#password validation\n",
        "def check1(password):\n",
        "  l, u, p, d = 0, 0, 0, 0\n",
        "  if(len(password) >= 5):\n",
        "    if(len(password)<=16):\n",
        "     for i in password:\n",
        "        if (i.islower()):\n",
        "              l+=1           \n",
        "        if (i.isupper()):\n",
        "               u+=1           \n",
        "        if (i.isdigit()):\n",
        "                  d+=1           \n",
        "        if(i=='@'or i=='$' or i=='_'):\n",
        "                  p+=1          \n",
        "    if (l>=1 and u>=1 and p>=1 and d>=1 and l+p+u+d==len(password)):\n",
        "                  print(\"Valid Password\")\n",
        "    else:\n",
        "                  print(\"Invalid Password\")\n",
        "                  register()"
      ],
      "metadata": {
        "id": "SCzByIcOQEDQ"
      },
      "execution_count": 2,
      "outputs": []
    },
    {
      "cell_type": "code",
      "source": [
        "#forgot password\n",
        "def check2(email):\n",
        "  emailorusername=input(\"Enter Your Email or Username\")\n",
        "  db = open(\"database.txt\", \"r\")\n",
        "  lines = db.readlines()\n",
        "  for line in lines:\n",
        "   if line.strip(\"\\n\") == emailorusername:\n",
        "    db.close()\n",
        "  if email==emailorusername:\n",
        "  #password=input(\"Enter new password\")\n",
        "   register()"
      ],
      "metadata": {
        "id": "px3kZeHWQQk7"
      },
      "execution_count": 3,
      "outputs": []
    },
    {
      "cell_type": "code",
      "source": [
        "#signup\n",
        "def register():\n",
        "  db=open(\"database.txt\",\"r\")\n",
        "  emailorusername=input(\"Enter the Email/username\")\n",
        "  check(emailorusername)\n",
        "  password=input(\"Enter the password\")\n",
        "  password1=input(\"Confirm password\")\n",
        "  if password==password1:\n",
        "    check1(password)\n",
        "  d=[]\n",
        "  f=[]\n",
        "  for i in db:\n",
        "    a,b=i.split()\n",
        "    b=b.strip()\n",
        "    d.append(a)\n",
        "    f.append(b)\n",
        "  #data=dict(zip(d,f))\n",
        "  #print(data)\n",
        "  if password != password1:\n",
        "    print(\"password don't match\")\n",
        "    register()\n",
        "  else:\n",
        "    if emailorusername in d:\n",
        "      print(\"username exists\")\n",
        "      register()\n",
        "    else:\n",
        "      db=open(\"database.txt\",\"a\")\n",
        "      db.write(emailorusername + \" \" + password+\"\\n\")\n",
        "      print(\"success\")"
      ],
      "metadata": {
        "id": "-eVwYSY7QUOP"
      },
      "execution_count": 4,
      "outputs": []
    },
    {
      "cell_type": "code",
      "source": [
        "#login\n",
        "def access():\n",
        "  db=open(\"database.txt\",\"r\")\n",
        "  emailorusername=input(\"Enter your Email/username:\")\n",
        "  password=input(\"Enter your password:\")\n",
        "  if not len (emailorusername or password)<1:\n",
        "    d=[]\n",
        "    f=[]\n",
        "    for i in db:\n",
        "      a,b=i.split()\n",
        "      b=b.strip()\n",
        "      d.append(a)\n",
        "      f.append(b)\n",
        "    data=dict(zip(d,f))\n",
        "    try:\n",
        "      if data[emailorusername]:\n",
        "        try:\n",
        "          if password==data[emailorusername]:\n",
        "            print(\"Login Success\")\n",
        "            print(\"hai,\", emailorusername)\n",
        "          else:\n",
        "            print(\"password or username incorrect\")\n",
        "            print(\"Forgot password\")\n",
        "            check2(emailorusername)\n",
        "        except:\n",
        "          print(\"incorrect password or username\")\n",
        "      else:\n",
        "         print(\"username doesn't exist\")\n",
        "    except:\n",
        "      print(\"Login Error\")"
      ],
      "metadata": {
        "id": "3kvI95wNQc0g"
      },
      "execution_count": 5,
      "outputs": []
    },
    {
      "cell_type": "code",
      "source": [
        "#main\n",
        "def home():\n",
        "  option=input(\"Login:|Signup:\")\n",
        "  if option==\"Login\":\n",
        "      access()\n",
        "  elif option==\"Signup\":\n",
        "       register()\n",
        "  else:\n",
        "      print(\"Please enter a option\")"
      ],
      "metadata": {
        "id": "R_xxtCYsQhw-"
      },
      "execution_count": 6,
      "outputs": []
    },
    {
      "cell_type": "code",
      "source": [
        "home()"
      ],
      "metadata": {
        "colab": {
          "base_uri": "https://localhost:8080/"
        },
        "id": "2LxIfpsHQn87",
        "outputId": "62cdc1da-914c-4193-8b85-56cc5b32378f"
      },
      "execution_count": 7,
      "outputs": [
        {
          "output_type": "stream",
          "name": "stdout",
          "text": [
            "Login:|Signup:Signup\n",
            "Enter the Email/usernamechashmi@gmail.com\n",
            "Valid Email\n",
            "Enter the passwordAllah@123\n",
            "Confirm passwordAllah@123\n",
            "Valid Password\n",
            "success\n"
          ]
        }
      ]
    }
  ]
}